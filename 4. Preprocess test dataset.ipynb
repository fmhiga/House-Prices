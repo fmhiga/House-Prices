{
 "cells": [
  {
   "cell_type": "markdown",
   "metadata": {},
   "source": [
    "# Preprocess test dataset"
   ]
  },
  {
   "cell_type": "code",
   "execution_count": 1,
   "metadata": {},
   "outputs": [],
   "source": [
    "import pandas as pd\n",
    "import numpy as np\n",
    "\n",
    "#Math tools\n",
    "from scipy import stats\n",
    "from scipy.stats import skew,norm  # for some statistics\n",
    "from scipy.special import boxcox1p\n",
    "from scipy.stats import boxcox_normmax\n",
    "import scipy.stats as stats"
   ]
  },
  {
   "cell_type": "code",
   "execution_count": 14,
   "metadata": {},
   "outputs": [],
   "source": [
    "train = pd.read_csv('./raw_data/train.csv')\n",
    "test = pd.read_csv('./raw_data/test.csv')"
   ]
  },
  {
   "cell_type": "code",
   "execution_count": 15,
   "metadata": {},
   "outputs": [],
   "source": [
    "train = train.drop('SalePrice', axis=1)"
   ]
  },
  {
   "cell_type": "code",
   "execution_count": 19,
   "metadata": {},
   "outputs": [],
   "source": [
    "df = pd.concat([train, test])"
   ]
  },
  {
   "cell_type": "code",
   "execution_count": 20,
   "metadata": {},
   "outputs": [
    {
     "name": "stdout",
     "output_type": "stream",
     "text": [
      "Total No. of missing value 13965 before Imputation\n",
      "Total No. of missing value 0 after Imputation\n"
     ]
    }
   ],
   "source": [
    "print(\"Total No. of missing value {} before Imputation\".format(sum(df.isnull().sum())))\n",
    "\n",
    "class missing_values():\n",
    "    \n",
    "    for col_cat in ['PoolQC', 'MiscFeature', 'Alley', 'Fence', 'FireplaceQu', 'GarageCond', 'GarageQual', 'GarageYrBlt',\n",
    "               'GarageFinish', 'GarageType', 'BsmtCond', 'BsmtQual', 'BsmtExposure', 'BsmtFinType1', 'BsmtFinType2',\n",
    "               'MasVnrType', 'MSSubClass']:\n",
    "        df[col_cat] = df[col_cat].fillna('None')\n",
    "    \n",
    "    # LotFrontage : Since the area of each street connected to the house property most likely have a similar area to \n",
    "    # other houses in its neighborhood , we can fill in missing values by the median LotFrontage of the neighborhood.\n",
    "    #Group by neighborhood and fill in missing value by the median LotFrontage of all the neighborhood\n",
    "    df[\"LotFrontage\"] = df.groupby(\"Neighborhood\")[\"LotFrontage\"].transform(lambda x: x.fillna(x.median()))\n",
    "    df['Electrical'] = df['Electrical'].fillna(df['Electrical'].mode()[0])\n",
    "    # MSZoning (The general zoning classification) : 'RL' is by far the most common value. So we can fill in \n",
    "    # missing values with 'RL'\n",
    "    df['MSZoning'] = df['MSZoning'].fillna(df['MSZoning'].mode()[0])\n",
    "    # Electrical : It has one NA value. Since this feature has mostly 'SBrkr', we can set that for the missing value.\n",
    "    df['Electrical'] = df['Electrical'].fillna(df['Electrical'].mode()[0])\n",
    "    # Functional : data description says NA means typical\n",
    "    df[\"Functional\"] = df[\"Functional\"].fillna(\"Typ\")\n",
    "    # KitchenQual: Only one NA value, and same as Electrical, we set 'TA' (which is the most frequent) for the missing \n",
    "    # value in KitchenQual.\n",
    "    df['KitchenQual'] = df['KitchenQual'].fillna(df['KitchenQual'].mode()[0])\n",
    "    # Exterior1st and Exterior2nd : Again Both Exterior 1 & 2 have only one missing value. We will just substitute in \n",
    "    # the most common string\n",
    "    df['Exterior1st'] = df['Exterior1st'].fillna(df['Exterior1st'].mode()[0])\n",
    "    df['Exterior2nd'] = df['Exterior2nd'].fillna(df['Exterior2nd'].mode()[0])\n",
    "    # SaleType : Fill in again with most frequent which is \"WD\"\n",
    "    df['SaleType'] = df['SaleType'].fillna(df['SaleType'].mode()[0])\n",
    "     \n",
    "    df['Utilities'] = df['Utilities'].fillna(df['Utilities'].mode()[0])\n",
    "    df['GarageCars'] = df['GarageCars'].fillna(df['GarageCars'].mode()[0])\n",
    "    df['GarageArea'] = df['GarageArea'].fillna(df['GarageArea'].mode()[0])\n",
    "    \n",
    "\n",
    "    for col_num in ['MasVnrArea', 'BsmtHalfBath', 'BsmtFullBath', 'BsmtUnfSF', 'TotalBsmtSF', 'BsmtFinSF2', 'BsmtFinSF1']:\n",
    "        df[col_num] = df[col_num].fillna(0)\n",
    "    \n",
    "missing_values()\n",
    "\n",
    "print(\"Total No. of missing value {} after Imputation\".format(sum(df.isnull().sum())))"
   ]
  },
  {
   "cell_type": "code",
   "execution_count": 21,
   "metadata": {},
   "outputs": [],
   "source": [
    "# converting some numeric features to string\n",
    "\n",
    "#MSSubClass: The building class\n",
    "df['MSSubClass'] = df['MSSubClass'].apply(str)\n",
    "# YrSold: Year Sold\n",
    "df['YrSold'] = df['YrSold'].astype(str)\n",
    "#MoSold: Month Sold\n",
    "df['MoSold'] = df['MoSold'].astype(str)\n",
    "# GarageYrBlt: Year garage was built\n",
    "df['GarageYrBlt'] = df['GarageYrBlt'].astype(str)"
   ]
  },
  {
   "cell_type": "code",
   "execution_count": 22,
   "metadata": {},
   "outputs": [],
   "source": [
    "# YrSold: Year Sold Original construction date + YearRemodAdd: Remodel date\n",
    "df['YearsSinceRemodel'] = df['YrSold'].astype(int) + df['YearRemodAdd'].astype(int)\n",
    "# OverallQual: Overall material and finish quality + OverallCond: Overall condition rating\n",
    "df['Total_Home_Quality'] = df['OverallQual'] + df['OverallCond']\n",
    "# TotalBsmtSF: Total square feet of basement area + 1stFlrSF: First Floor square feet + 2ndFlrSF: Second floor square feet\n",
    "df['TotalSF'] = df['TotalBsmtSF'] + df['1stFlrSF'] + df['2ndFlrSF']\n",
    "# YearBuilt: Original construction date + YearRemodAdd: Remodel date\n",
    "df['YrBltAndRemod'] = df['YearBuilt'] + df['YearRemodAdd']\n",
    "# BsmtFinSF1: Type 1 finished square feet + BsmtFinSF2: Type 2 finished square feet + \n",
    "# 1stFlrSF: First Floor square feet + 2ndFlrSF: Second floor square feet\n",
    "df['Total_sqr_footage'] = (df['BsmtFinSF1'] + df['BsmtFinSF2'] + df['1stFlrSF'] + df['2ndFlrSF'])\n",
    "# FullBath: Full bathrooms above grade + HalfBath: Half baths above grade + \n",
    "# BsmtFullBath: Basement full bathrooms + BsmtHalfBath: Basement half bathrooms\n",
    "df['Total_Bathrooms'] = (df['FullBath'] + (0.5 * df['HalfBath']) + df['BsmtFullBath'] + (0.5 * df['BsmtHalfBath']))\n",
    "# OpenPorchSF: Open porch area in square feet + 3SsnPorch: Three season porch area in square feet +\n",
    "# EnclosedPorch: Enclosed porch area in square feet + ScreenPorch: Screen porch area in square feet + \n",
    "# WoodDeckSF: Wood deck area in square feet\n",
    "df['Total_porch_sf'] = (df['OpenPorchSF'] + df['3SsnPorch'] + df['EnclosedPorch'] + df['ScreenPorch'] + df['WoodDeckSF'])"
   ]
  },
  {
   "cell_type": "code",
   "execution_count": 23,
   "metadata": {},
   "outputs": [],
   "source": [
    "# simplified features\n",
    "df['haspool'] = df['PoolArea'].apply(lambda x: 1 if x > 0 else 0)\n",
    "df['has2ndfloor'] = df['2ndFlrSF'].apply(lambda x: 1 if x > 0 else 0)\n",
    "df['hasgarage'] = df['GarageArea'].apply(lambda x: 1 if x > 0 else 0)\n",
    "df['hasbsmt'] = df['TotalBsmtSF'].apply(lambda x: 1 if x > 0 else 0)\n",
    "df['hasfireplace'] = df['Fireplaces'].apply(lambda x: 1 if x > 0 else 0)"
   ]
  },
  {
   "cell_type": "code",
   "execution_count": 24,
   "metadata": {},
   "outputs": [
    {
     "name": "stdout",
     "output_type": "stream",
     "text": [
      "There are 29 numerical features with Skew > 0.5 :\n"
     ]
    },
    {
     "data": {
      "text/plain": [
       "MiscVal          21.947195\n",
       "PoolArea         16.898328\n",
       "haspool          14.884318\n",
       "LotArea          12.822431\n",
       "LowQualFinSF     12.088761\n",
       "3SsnPorch        11.376065\n",
       "KitchenAbvGr      4.302254\n",
       "BsmtFinSF2        4.146143\n",
       "EnclosedPorch     4.003891\n",
       "ScreenPorch       3.946694\n",
       "dtype: float64"
      ]
     },
     "execution_count": 24,
     "metadata": {},
     "output_type": "execute_result"
    }
   ],
   "source": [
    "# Filter the skewed features\n",
    "numeric = df.select_dtypes(include='number').columns\n",
    "skew_features = df[numeric].apply(lambda x: skew(x)).sort_values(ascending=False)\n",
    "\n",
    "high_skew = skew_features[skew_features > 0.5]\n",
    "skew_index = high_skew.index\n",
    "\n",
    "print(\"There are {} numerical features with Skew > 0.5 :\".format(high_skew.shape[0]))\n",
    "skewness = pd.DataFrame({'Skew' :high_skew})\n",
    "skew_features.head(10)"
   ]
  },
  {
   "cell_type": "code",
   "execution_count": 25,
   "metadata": {},
   "outputs": [],
   "source": [
    "# Normalize skewed features using boxcox\n",
    "for i in skew_index:\n",
    "    df[i] = boxcox1p(df[i], boxcox_normmax(df[i] + 1))"
   ]
  },
  {
   "cell_type": "code",
   "execution_count": 26,
   "metadata": {},
   "outputs": [],
   "source": [
    "# Get dummies\n",
    "df = pd.get_dummies(df, prefix_sep='_', drop_first=True)"
   ]
  },
  {
   "cell_type": "code",
   "execution_count": 27,
   "metadata": {},
   "outputs": [],
   "source": [
    "overfitted_features = ['PoolArea',\n",
    " 'haspool',\n",
    " 'MSSubClass_180',\n",
    " 'MSSubClass_40',\n",
    " 'MSSubClass_45',\n",
    " 'Street_Pave',\n",
    " 'LotShape_IR3',\n",
    " 'Utilities_NoSeWa',\n",
    " 'LotConfig_FR3',\n",
    " 'LandSlope_Sev',\n",
    " 'Neighborhood_Blueste',\n",
    " 'Neighborhood_NPkVill',\n",
    " 'Neighborhood_Veenker',\n",
    " 'Condition1_PosA',\n",
    " 'Condition1_RRAe',\n",
    " 'Condition1_RRNe',\n",
    " 'Condition1_RRNn',\n",
    " 'Condition2_Feedr',\n",
    " 'Condition2_PosA',\n",
    " 'Condition2_PosN',\n",
    " 'Condition2_RRAe',\n",
    " 'Condition2_RRAn',\n",
    " 'Condition2_RRNn',\n",
    " 'HouseStyle_1.5Unf',\n",
    " 'HouseStyle_2.5Fin',\n",
    " 'HouseStyle_2.5Unf',\n",
    " 'RoofStyle_Gambrel',\n",
    " 'RoofStyle_Mansard',\n",
    " 'RoofStyle_Shed',\n",
    " 'RoofMatl_Membran',\n",
    " 'RoofMatl_Metal',\n",
    " 'RoofMatl_Roll',\n",
    " 'RoofMatl_Tar&Grv',\n",
    " 'RoofMatl_WdShake',\n",
    " 'RoofMatl_WdShngl',\n",
    " 'Exterior1st_AsphShn',\n",
    " 'Exterior1st_BrkComm',\n",
    " 'Exterior1st_CBlock',\n",
    " 'Exterior1st_ImStucc',\n",
    " 'Exterior1st_Stone',\n",
    " 'Exterior2nd_AsphShn',\n",
    " 'Exterior2nd_Brk Cmn',\n",
    " 'Exterior2nd_CBlock',\n",
    " 'Exterior2nd_ImStucc',\n",
    " 'Exterior2nd_Other',\n",
    " 'Exterior2nd_Stone',\n",
    " 'ExterQual_Fa',\n",
    " 'ExterCond_Po',\n",
    " 'Foundation_Stone',\n",
    " 'Foundation_Wood',\n",
    " 'BsmtCond_Po',\n",
    " 'BsmtFinType2_GLQ',\n",
    " 'Heating_Grav',\n",
    " 'Heating_OthW',\n",
    " 'Heating_Wall',\n",
    " 'HeatingQC_Po',\n",
    " 'Electrical_FuseP',\n",
    " 'Electrical_Mix',\n",
    " 'Functional_Maj2',\n",
    " 'Functional_Sev',\n",
    " 'GarageType_CarPort',\n",
    " 'GarageYrBlt_1906.0',\n",
    " 'GarageYrBlt_1908.0',\n",
    " 'GarageYrBlt_1910.0',\n",
    " 'GarageYrBlt_1914.0',\n",
    " 'GarageYrBlt_1915.0',\n",
    " 'GarageYrBlt_1916.0',\n",
    " 'GarageYrBlt_1918.0',\n",
    " 'GarageYrBlt_1920.0',\n",
    " 'GarageYrBlt_1921.0',\n",
    " 'GarageYrBlt_1922.0',\n",
    " 'GarageYrBlt_1923.0',\n",
    " 'GarageYrBlt_1924.0',\n",
    " 'GarageYrBlt_1925.0',\n",
    " 'GarageYrBlt_1926.0',\n",
    " 'GarageYrBlt_1927.0',\n",
    " 'GarageYrBlt_1928.0',\n",
    " 'GarageYrBlt_1929.0',\n",
    " 'GarageYrBlt_1930.0',\n",
    " 'GarageYrBlt_1931.0',\n",
    " 'GarageYrBlt_1932.0',\n",
    " 'GarageYrBlt_1933.0',\n",
    " 'GarageYrBlt_1934.0',\n",
    " 'GarageYrBlt_1935.0',\n",
    " 'GarageYrBlt_1936.0',\n",
    " 'GarageYrBlt_1937.0',\n",
    " 'GarageYrBlt_1938.0',\n",
    " 'GarageYrBlt_1939.0',\n",
    " 'GarageYrBlt_1940.0',\n",
    " 'GarageYrBlt_1941.0',\n",
    " 'GarageYrBlt_1942.0',\n",
    " 'GarageYrBlt_1945.0',\n",
    " 'GarageYrBlt_1946.0',\n",
    " 'GarageYrBlt_1947.0',\n",
    " 'GarageYrBlt_1948.0',\n",
    " 'GarageYrBlt_1949.0',\n",
    " 'GarageYrBlt_1951.0',\n",
    " 'GarageYrBlt_1952.0',\n",
    " 'GarageYrBlt_1953.0',\n",
    " 'GarageYrBlt_1955.0',\n",
    " 'GarageYrBlt_1961.0',\n",
    " 'GarageYrBlt_1971.0',\n",
    " 'GarageYrBlt_1972.0',\n",
    " 'GarageYrBlt_1973.0',\n",
    " 'GarageYrBlt_1975.0',\n",
    " 'GarageYrBlt_1981.0',\n",
    " 'GarageYrBlt_1982.0',\n",
    " 'GarageYrBlt_1983.0',\n",
    " 'GarageYrBlt_1984.0',\n",
    " 'GarageYrBlt_1985.0',\n",
    " 'GarageYrBlt_1986.0',\n",
    " 'GarageYrBlt_1987.0',\n",
    " 'GarageYrBlt_1988.0',\n",
    " 'GarageYrBlt_1989.0',\n",
    " 'GarageYrBlt_1991.0',\n",
    " 'GarageYrBlt_1992.0',\n",
    " 'GarageYrBlt_2010.0',\n",
    " 'GarageQual_Gd',\n",
    " 'GarageQual_Po',\n",
    " 'GarageCond_Gd',\n",
    " 'GarageCond_Po',\n",
    " 'PoolQC_Fa',\n",
    " 'PoolQC_Gd',\n",
    " 'PoolQC_None',\n",
    " 'Fence_MnWw',\n",
    " 'MiscFeature_Othr',\n",
    " 'MiscFeature_TenC',\n",
    " 'SaleType_CWD',\n",
    " 'SaleType_Con',\n",
    " 'SaleType_ConLD',\n",
    " 'SaleType_ConLI',\n",
    " 'SaleType_ConLw',\n",
    " 'SaleType_Oth',\n",
    " 'SaleCondition_AdjLand',\n",
    " 'SaleCondition_Alloca']"
   ]
  },
  {
   "cell_type": "code",
   "execution_count": 28,
   "metadata": {},
   "outputs": [
    {
     "data": {
      "text/plain": [
       "['PoolArea',\n",
       " 'haspool',\n",
       " 'MSSubClass_180',\n",
       " 'MSSubClass_40',\n",
       " 'MSSubClass_45',\n",
       " 'Street_Pave',\n",
       " 'LotShape_IR3',\n",
       " 'Utilities_NoSeWa',\n",
       " 'LotConfig_FR3',\n",
       " 'LandSlope_Sev',\n",
       " 'Neighborhood_Blueste',\n",
       " 'Neighborhood_NPkVill',\n",
       " 'Neighborhood_Veenker',\n",
       " 'Condition1_PosA',\n",
       " 'Condition1_RRAe',\n",
       " 'Condition1_RRNe',\n",
       " 'Condition1_RRNn',\n",
       " 'Condition2_Feedr',\n",
       " 'Condition2_PosA',\n",
       " 'Condition2_PosN',\n",
       " 'Condition2_RRAe',\n",
       " 'Condition2_RRAn',\n",
       " 'Condition2_RRNn',\n",
       " 'HouseStyle_1.5Unf',\n",
       " 'HouseStyle_2.5Fin',\n",
       " 'HouseStyle_2.5Unf',\n",
       " 'RoofStyle_Gambrel',\n",
       " 'RoofStyle_Mansard',\n",
       " 'RoofStyle_Shed',\n",
       " 'RoofMatl_Membran',\n",
       " 'RoofMatl_Metal',\n",
       " 'RoofMatl_Roll',\n",
       " 'RoofMatl_Tar&Grv',\n",
       " 'RoofMatl_WdShake',\n",
       " 'RoofMatl_WdShngl',\n",
       " 'Exterior1st_AsphShn',\n",
       " 'Exterior1st_BrkComm',\n",
       " 'Exterior1st_CBlock',\n",
       " 'Exterior1st_ImStucc',\n",
       " 'Exterior1st_Stone',\n",
       " 'Exterior2nd_AsphShn',\n",
       " 'Exterior2nd_Brk Cmn',\n",
       " 'Exterior2nd_CBlock',\n",
       " 'Exterior2nd_ImStucc',\n",
       " 'Exterior2nd_Other',\n",
       " 'Exterior2nd_Stone',\n",
       " 'ExterQual_Fa',\n",
       " 'ExterCond_Po',\n",
       " 'Foundation_Stone',\n",
       " 'Foundation_Wood',\n",
       " 'BsmtCond_Po',\n",
       " 'BsmtFinType2_GLQ',\n",
       " 'Heating_Grav',\n",
       " 'Heating_OthW',\n",
       " 'Heating_Wall',\n",
       " 'HeatingQC_Po',\n",
       " 'Electrical_FuseP',\n",
       " 'Electrical_Mix',\n",
       " 'Functional_Maj2',\n",
       " 'Functional_Sev',\n",
       " 'GarageType_CarPort',\n",
       " 'GarageYrBlt_1906.0',\n",
       " 'GarageYrBlt_1908.0',\n",
       " 'GarageYrBlt_1910.0',\n",
       " 'GarageYrBlt_1914.0',\n",
       " 'GarageYrBlt_1915.0',\n",
       " 'GarageYrBlt_1916.0',\n",
       " 'GarageYrBlt_1918.0',\n",
       " 'GarageYrBlt_1920.0',\n",
       " 'GarageYrBlt_1921.0',\n",
       " 'GarageYrBlt_1922.0',\n",
       " 'GarageYrBlt_1923.0',\n",
       " 'GarageYrBlt_1924.0',\n",
       " 'GarageYrBlt_1925.0',\n",
       " 'GarageYrBlt_1926.0',\n",
       " 'GarageYrBlt_1927.0',\n",
       " 'GarageYrBlt_1928.0',\n",
       " 'GarageYrBlt_1929.0',\n",
       " 'GarageYrBlt_1930.0',\n",
       " 'GarageYrBlt_1931.0',\n",
       " 'GarageYrBlt_1932.0',\n",
       " 'GarageYrBlt_1933.0',\n",
       " 'GarageYrBlt_1934.0',\n",
       " 'GarageYrBlt_1935.0',\n",
       " 'GarageYrBlt_1936.0',\n",
       " 'GarageYrBlt_1937.0',\n",
       " 'GarageYrBlt_1938.0',\n",
       " 'GarageYrBlt_1939.0',\n",
       " 'GarageYrBlt_1940.0',\n",
       " 'GarageYrBlt_1941.0',\n",
       " 'GarageYrBlt_1942.0',\n",
       " 'GarageYrBlt_1945.0',\n",
       " 'GarageYrBlt_1946.0',\n",
       " 'GarageYrBlt_1947.0',\n",
       " 'GarageYrBlt_1948.0',\n",
       " 'GarageYrBlt_1949.0',\n",
       " 'GarageYrBlt_1951.0',\n",
       " 'GarageYrBlt_1952.0',\n",
       " 'GarageYrBlt_1953.0',\n",
       " 'GarageYrBlt_1955.0',\n",
       " 'GarageYrBlt_1961.0',\n",
       " 'GarageYrBlt_1971.0',\n",
       " 'GarageYrBlt_1972.0',\n",
       " 'GarageYrBlt_1973.0',\n",
       " 'GarageYrBlt_1975.0',\n",
       " 'GarageYrBlt_1981.0',\n",
       " 'GarageYrBlt_1982.0',\n",
       " 'GarageYrBlt_1983.0',\n",
       " 'GarageYrBlt_1984.0',\n",
       " 'GarageYrBlt_1985.0',\n",
       " 'GarageYrBlt_1986.0',\n",
       " 'GarageYrBlt_1987.0',\n",
       " 'GarageYrBlt_1988.0',\n",
       " 'GarageYrBlt_1989.0',\n",
       " 'GarageYrBlt_1991.0',\n",
       " 'GarageYrBlt_1992.0',\n",
       " 'GarageYrBlt_2010.0',\n",
       " 'GarageQual_Gd',\n",
       " 'GarageQual_Po',\n",
       " 'GarageCond_Gd',\n",
       " 'GarageCond_Po',\n",
       " 'PoolQC_Fa',\n",
       " 'PoolQC_Gd',\n",
       " 'PoolQC_None',\n",
       " 'Fence_MnWw',\n",
       " 'MiscFeature_Othr',\n",
       " 'MiscFeature_TenC',\n",
       " 'SaleType_CWD',\n",
       " 'SaleType_Con',\n",
       " 'SaleType_ConLD',\n",
       " 'SaleType_ConLI',\n",
       " 'SaleType_ConLw',\n",
       " 'SaleType_Oth',\n",
       " 'SaleCondition_AdjLand',\n",
       " 'SaleCondition_Alloca']"
      ]
     },
     "execution_count": 28,
     "metadata": {},
     "output_type": "execute_result"
    }
   ],
   "source": [
    "overfitted_features"
   ]
  },
  {
   "cell_type": "code",
   "execution_count": 29,
   "metadata": {},
   "outputs": [],
   "source": [
    "df.drop(overfitted_features, inplace=True, axis=1)"
   ]
  },
  {
   "cell_type": "code",
   "execution_count": 30,
   "metadata": {},
   "outputs": [
    {
     "data": {
      "text/plain": [
       "(2919, 266)"
      ]
     },
     "execution_count": 30,
     "metadata": {},
     "output_type": "execute_result"
    }
   ],
   "source": [
    "df.shape"
   ]
  },
  {
   "cell_type": "code",
   "execution_count": 31,
   "metadata": {},
   "outputs": [],
   "source": [
    "df = df.iloc[len(train):, :]"
   ]
  },
  {
   "cell_type": "code",
   "execution_count": 45,
   "metadata": {},
   "outputs": [],
   "source": [
    "col = pd.DataFrame(df.columns)"
   ]
  },
  {
   "cell_type": "code",
   "execution_count": 43,
   "metadata": {},
   "outputs": [
    {
     "data": {
      "text/html": [
       "<div>\n",
       "<style scoped>\n",
       "    .dataframe tbody tr th:only-of-type {\n",
       "        vertical-align: middle;\n",
       "    }\n",
       "\n",
       "    .dataframe tbody tr th {\n",
       "        vertical-align: top;\n",
       "    }\n",
       "\n",
       "    .dataframe thead th {\n",
       "        text-align: right;\n",
       "    }\n",
       "</style>\n",
       "<table border=\"1\" class=\"dataframe\">\n",
       "  <thead>\n",
       "    <tr style=\"text-align: right;\">\n",
       "      <th></th>\n",
       "      <th>0</th>\n",
       "    </tr>\n",
       "  </thead>\n",
       "  <tbody>\n",
       "    <tr>\n",
       "      <th>0</th>\n",
       "      <td>Id</td>\n",
       "    </tr>\n",
       "    <tr>\n",
       "      <th>1</th>\n",
       "      <td>LotFrontage</td>\n",
       "    </tr>\n",
       "  </tbody>\n",
       "</table>\n",
       "</div>"
      ],
      "text/plain": [
       "             0\n",
       "0           Id\n",
       "1  LotFrontage"
      ]
     },
     "execution_count": 43,
     "metadata": {},
     "output_type": "execute_result"
    }
   ],
   "source": [
    "col.head(2)"
   ]
  },
  {
   "cell_type": "code",
   "execution_count": 37,
   "metadata": {},
   "outputs": [],
   "source": [
    "df_2 = pd.read_csv('preprossed_data/preprossed_data.csv')"
   ]
  },
  {
   "cell_type": "code",
   "execution_count": 40,
   "metadata": {},
   "outputs": [],
   "source": [
    "col_2 = pd.DataFrame(df_2.columns)"
   ]
  },
  {
   "cell_type": "code",
   "execution_count": 49,
   "metadata": {},
   "outputs": [
    {
     "data": {
      "text/html": [
       "<div>\n",
       "<style scoped>\n",
       "    .dataframe tbody tr th:only-of-type {\n",
       "        vertical-align: middle;\n",
       "    }\n",
       "\n",
       "    .dataframe tbody tr th {\n",
       "        vertical-align: top;\n",
       "    }\n",
       "\n",
       "    .dataframe thead th {\n",
       "        text-align: right;\n",
       "    }\n",
       "</style>\n",
       "<table border=\"1\" class=\"dataframe\">\n",
       "  <thead>\n",
       "    <tr style=\"text-align: right;\">\n",
       "      <th></th>\n",
       "      <th>0</th>\n",
       "    </tr>\n",
       "  </thead>\n",
       "  <tbody>\n",
       "    <tr>\n",
       "      <th>0</th>\n",
       "      <td>LotFrontage</td>\n",
       "    </tr>\n",
       "    <tr>\n",
       "      <th>1</th>\n",
       "      <td>LotArea</td>\n",
       "    </tr>\n",
       "  </tbody>\n",
       "</table>\n",
       "</div>"
      ],
      "text/plain": [
       "             0\n",
       "0  LotFrontage\n",
       "1      LotArea"
      ]
     },
     "execution_count": 49,
     "metadata": {},
     "output_type": "execute_result"
    }
   ],
   "source": [
    "col_2.head(2)"
   ]
  },
  {
   "cell_type": "code",
   "execution_count": 50,
   "metadata": {},
   "outputs": [],
   "source": [
    "result  = col.merge(col_2, how='outer', indicator=True).loc[lambda x : x['_merge']=='left_only']"
   ]
  },
  {
   "cell_type": "code",
   "execution_count": 51,
   "metadata": {},
   "outputs": [
    {
     "data": {
      "text/html": [
       "<div>\n",
       "<style scoped>\n",
       "    .dataframe tbody tr th:only-of-type {\n",
       "        vertical-align: middle;\n",
       "    }\n",
       "\n",
       "    .dataframe tbody tr th {\n",
       "        vertical-align: top;\n",
       "    }\n",
       "\n",
       "    .dataframe thead th {\n",
       "        text-align: right;\n",
       "    }\n",
       "</style>\n",
       "<table border=\"1\" class=\"dataframe\">\n",
       "  <thead>\n",
       "    <tr style=\"text-align: right;\">\n",
       "      <th></th>\n",
       "      <th>0</th>\n",
       "      <th>_merge</th>\n",
       "    </tr>\n",
       "  </thead>\n",
       "  <tbody>\n",
       "    <tr>\n",
       "      <th>0</th>\n",
       "      <td>Id</td>\n",
       "      <td>left_only</td>\n",
       "    </tr>\n",
       "    <tr>\n",
       "      <th>43</th>\n",
       "      <td>MSSubClass_150</td>\n",
       "      <td>left_only</td>\n",
       "    </tr>\n",
       "    <tr>\n",
       "      <th>183</th>\n",
       "      <td>GarageYrBlt_1896.0</td>\n",
       "      <td>left_only</td>\n",
       "    </tr>\n",
       "    <tr>\n",
       "      <th>184</th>\n",
       "      <td>GarageYrBlt_1900.0</td>\n",
       "      <td>left_only</td>\n",
       "    </tr>\n",
       "    <tr>\n",
       "      <th>185</th>\n",
       "      <td>GarageYrBlt_1917.0</td>\n",
       "      <td>left_only</td>\n",
       "    </tr>\n",
       "    <tr>\n",
       "      <th>186</th>\n",
       "      <td>GarageYrBlt_1919.0</td>\n",
       "      <td>left_only</td>\n",
       "    </tr>\n",
       "    <tr>\n",
       "      <th>187</th>\n",
       "      <td>GarageYrBlt_1943.0</td>\n",
       "      <td>left_only</td>\n",
       "    </tr>\n",
       "    <tr>\n",
       "      <th>228</th>\n",
       "      <td>GarageYrBlt_2207.0</td>\n",
       "      <td>left_only</td>\n",
       "    </tr>\n",
       "  </tbody>\n",
       "</table>\n",
       "</div>"
      ],
      "text/plain": [
       "                      0     _merge\n",
       "0                    Id  left_only\n",
       "43       MSSubClass_150  left_only\n",
       "183  GarageYrBlt_1896.0  left_only\n",
       "184  GarageYrBlt_1900.0  left_only\n",
       "185  GarageYrBlt_1917.0  left_only\n",
       "186  GarageYrBlt_1919.0  left_only\n",
       "187  GarageYrBlt_1943.0  left_only\n",
       "228  GarageYrBlt_2207.0  left_only"
      ]
     },
     "execution_count": 51,
     "metadata": {},
     "output_type": "execute_result"
    }
   ],
   "source": [
    "result"
   ]
  },
  {
   "cell_type": "code",
   "execution_count": 53,
   "metadata": {},
   "outputs": [],
   "source": [
    "df.drop(['Id', 'MSSubClass_150', 'GarageYrBlt_1896.0', 'GarageYrBlt_1900.0', 'GarageYrBlt_1917.0', 'GarageYrBlt_1919.0',\n",
    "         'GarageYrBlt_1943.0', 'GarageYrBlt_2207.0'], inplace=True, axis=1)"
   ]
  },
  {
   "cell_type": "code",
   "execution_count": 54,
   "metadata": {},
   "outputs": [
    {
     "data": {
      "text/plain": [
       "(1459, 258)"
      ]
     },
     "execution_count": 54,
     "metadata": {},
     "output_type": "execute_result"
    }
   ],
   "source": [
    "df.shape"
   ]
  },
  {
   "cell_type": "code",
   "execution_count": 55,
   "metadata": {},
   "outputs": [],
   "source": [
    "df.to_csv('preprossed_data/preprossed_test.csv', index=False)"
   ]
  },
  {
   "cell_type": "code",
   "execution_count": null,
   "metadata": {},
   "outputs": [],
   "source": []
  }
 ],
 "metadata": {
  "kernelspec": {
   "display_name": "Python 3",
   "language": "python",
   "name": "python3"
  },
  "language_info": {
   "codemirror_mode": {
    "name": "ipython",
    "version": 3
   },
   "file_extension": ".py",
   "mimetype": "text/x-python",
   "name": "python",
   "nbconvert_exporter": "python",
   "pygments_lexer": "ipython3",
   "version": "3.7.3"
  }
 },
 "nbformat": 4,
 "nbformat_minor": 2
}
